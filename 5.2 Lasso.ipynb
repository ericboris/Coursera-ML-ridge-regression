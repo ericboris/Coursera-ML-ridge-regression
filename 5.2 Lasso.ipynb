{
 "cells": [
  {
   "cell_type": "markdown",
   "metadata": {},
   "source": [
    "# Week 5: LASSO (Coordinate Descent)"
   ]
  },
  {
   "cell_type": "markdown",
   "metadata": {},
   "source": [
    "## Import GraphLab and Sales Data"
   ]
  },
  {
   "cell_type": "code",
   "execution_count": 3,
   "metadata": {
    "collapsed": false
   },
   "outputs": [],
   "source": [
    "import graphlab as gl"
   ]
  },
  {
   "cell_type": "code",
   "execution_count": 4,
   "metadata": {
    "collapsed": false
   },
   "outputs": [],
   "source": [
    "sales = gl.SFrame('kc_house_data.gl/')\n",
    "# 'Floors' array was defined as type 'string'\n",
    "# Convert to 'int' before using\n",
    "sales['floors'] = sales['floors'].astype(int)"
   ]
  },
  {
   "cell_type": "markdown",
   "metadata": {},
   "source": [
    "##Import Functions from Previous Notebook"
   ]
  },
  {
   "cell_type": "code",
   "execution_count": 9,
   "metadata": {
    "collapsed": true
   },
   "outputs": [],
   "source": [
    "import numpy as np"
   ]
  },
  {
   "cell_type": "code",
   "execution_count": 10,
   "metadata": {
    "collapsed": true
   },
   "outputs": [],
   "source": [
    "from regression import get_numpy_data, predict_output"
   ]
  },
  {
   "cell_type": "markdown",
   "metadata": {},
   "source": [
    "## Normalize Features Practice"
   ]
  },
  {
   "cell_type": "code",
   "execution_count": 12,
   "metadata": {
    "collapsed": true
   },
   "outputs": [],
   "source": [
    "X = np.array([[3.0, 5.0, 8.0], [4.0, 12.0, 15.0]])"
   ]
  },
  {
   "cell_type": "code",
   "execution_count": 14,
   "metadata": {
    "collapsed": false
   },
   "outputs": [
    {
     "name": "stdout",
     "output_type": "stream",
     "text": [
      "[[  3.   5.   8.]\n",
      " [  4.  12.  15.]]\n"
     ]
    }
   ],
   "source": [
    "print X"
   ]
  },
  {
   "cell_type": "code",
   "execution_count": 15,
   "metadata": {
    "collapsed": false
   },
   "outputs": [
    {
     "name": "stdout",
     "output_type": "stream",
     "text": [
      "[  5.  13.  17.]\n"
     ]
    }
   ],
   "source": [
    "norms = np.linalg.norm(X, axis=0)\n",
    "print norms"
   ]
  },
  {
   "cell_type": "code",
   "execution_count": 16,
   "metadata": {
    "collapsed": false
   },
   "outputs": [
    {
     "name": "stdout",
     "output_type": "stream",
     "text": [
      "[[ 0.6         0.38461538  0.47058824]\n",
      " [ 0.8         0.92307692  0.88235294]]\n"
     ]
    }
   ],
   "source": [
    "print X / norms"
   ]
  },
  {
   "cell_type": "markdown",
   "metadata": {},
   "source": [
    "Define a small function to return `normalized features`, i.e. the above line, and `norms`. "
   ]
  },
  {
   "cell_type": "code",
   "execution_count": 17,
   "metadata": {
    "collapsed": true
   },
   "outputs": [],
   "source": [
    "def normalize_features(feature_matrix, verbose=False):\n",
    "    X = np.array(feature_matrix)\n",
    "    \n",
    "    norms = np.linalg.norm(X, axis=0)\n",
    "    normalized_features = X / norms\n",
    "    \n",
    "    if verbose is True:\n",
    "        print('Normalize Features')\n",
    "        print('feature matrix: \\n%s\\n' % feature_matrix)\n",
    "        print('normalized features: \\n%s\\n' % normalized_features)\n",
    "        print('norms: \\n%s\\n' % norms)\n",
    "    \n",
    "    return(normalized_features, norms)"
   ]
  },
  {
   "cell_type": "code",
   "execution_count": 18,
   "metadata": {
    "collapsed": false
   },
   "outputs": [
    {
     "name": "stdout",
     "output_type": "stream",
     "text": [
      "Normalize Features\n",
      "feature matrix: \n",
      "[[  3.   6.   9.]\n",
      " [  4.   8.  12.]]\n",
      "\n",
      "normalized features: \n",
      "[[ 0.6  0.6  0.6]\n",
      " [ 0.8  0.8  0.8]]\n",
      "\n",
      "norms: \n",
      "[  5.  10.  15.]\n",
      "\n"
     ]
    }
   ],
   "source": [
    "features, norms = normalize_features(np.array([[3.,6.,9.],[4.,8.,12.]]), verbose=True)"
   ]
  },
  {
   "cell_type": "markdown",
   "metadata": {},
   "source": [
    "## Implement Coordinate Descent with Normalized Features"
   ]
  },
  {
   "cell_type": "markdown",
   "metadata": {},
   "source": [
    "## Effect of L1 Penalty"
   ]
  },
  {
   "cell_type": "code",
   "execution_count": 19,
   "metadata": {
    "collapsed": false
   },
   "outputs": [
    {
     "name": "stdout",
     "output_type": "stream",
     "text": [
      "Get Numpy Data\n",
      "data sframe: \n",
      "+------------+---------------------------+----------+----------+-----------+\n",
      "|     id     |            date           |  price   | bedrooms | bathrooms |\n",
      "+------------+---------------------------+----------+----------+-----------+\n",
      "| 7129300520 | 2014-10-13 00:00:00+00:00 | 221900.0 |   3.0    |    1.0    |\n",
      "+------------+---------------------------+----------+----------+-----------+\n",
      "+-------------+----------+--------+------------+------+-----------+-------+------------+\n",
      "| sqft_living | sqft_lot | floors | waterfront | view | condition | grade | sqft_above |\n",
      "+-------------+----------+--------+------------+------+-----------+-------+------------+\n",
      "|    1180.0   |   5650   |   1    |     0      |  0   |     3     |   7   |    1180    |\n",
      "+-------------+----------+--------+------------+------+-----------+-------+------------+\n",
      "+---------------+----------+--------------+---------+-------------+\n",
      "| sqft_basement | yr_built | yr_renovated | zipcode |     lat     |\n",
      "+---------------+----------+--------------+---------+-------------+\n",
      "|       0       |   1955   |      0       |  98178  | 47.51123398 |\n",
      "+---------------+----------+--------------+---------+-------------+\n",
      "+---------------+---------------+-----+\n",
      "|      long     | sqft_living15 | ... |\n",
      "+---------------+---------------+-----+\n",
      "| -122.25677536 |     1340.0    | ... |\n",
      "+---------------+---------------+-----+\n",
      "[1 rows x 22 columns]\n",
      "\n",
      "features: \n",
      "['sqft_living', 'bedrooms']\n",
      "\n",
      "output: \n",
      "price\n",
      "\n",
      "feature matrix: \n",
      "[[  1.00000000e+00   1.18000000e+03   3.00000000e+00]\n",
      " [  1.00000000e+00   2.57000000e+03   3.00000000e+00]\n",
      " [  1.00000000e+00   7.70000000e+02   2.00000000e+00]\n",
      " ..., \n",
      " [  1.00000000e+00   1.02000000e+03   2.00000000e+00]\n",
      " [  1.00000000e+00   1.60000000e+03   3.00000000e+00]\n",
      " [  1.00000000e+00   1.02000000e+03   2.00000000e+00]]\n",
      "\n",
      "output array \n",
      "[ 221900.  538000.  180000. ...,  402101.  400000.  325000.]\n",
      "\n"
     ]
    }
   ],
   "source": [
    "simple_features = ['sqft_living', 'bedrooms']\n",
    "my_output = 'price'\n",
    "(simple_feature_matrix, output) = get_numpy_data(sales, simple_features, my_output, verbose=True)"
   ]
  },
  {
   "cell_type": "code",
   "execution_count": 20,
   "metadata": {
    "collapsed": false
   },
   "outputs": [
    {
     "name": "stdout",
     "output_type": "stream",
     "text": [
      "Normalize Features\n",
      "feature matrix: \n",
      "[[  1.00000000e+00   1.18000000e+03   3.00000000e+00]\n",
      " [  1.00000000e+00   2.57000000e+03   3.00000000e+00]\n",
      " [  1.00000000e+00   7.70000000e+02   2.00000000e+00]\n",
      " ..., \n",
      " [  1.00000000e+00   1.02000000e+03   2.00000000e+00]\n",
      " [  1.00000000e+00   1.60000000e+03   3.00000000e+00]\n",
      " [  1.00000000e+00   1.02000000e+03   2.00000000e+00]]\n",
      "\n",
      "normalized features: \n",
      "[[ 0.00680209  0.00353021  0.00583571]\n",
      " [ 0.00680209  0.00768869  0.00583571]\n",
      " [ 0.00680209  0.00230361  0.00389048]\n",
      " ..., \n",
      " [ 0.00680209  0.00305154  0.00389048]\n",
      " [ 0.00680209  0.00478673  0.00583571]\n",
      " [ 0.00680209  0.00305154  0.00389048]]\n",
      "\n",
      "norms: \n",
      "[  1.47013605e+02   3.34257264e+05   5.14075870e+02]\n",
      "\n"
     ]
    }
   ],
   "source": [
    "simple_feature_matrix, norms = normalize_features(simple_feature_matrix, verbose=True)"
   ]
  },
  {
   "cell_type": "code",
   "execution_count": 21,
   "metadata": {
    "collapsed": true
   },
   "outputs": [],
   "source": [
    "weights = np.array([1.0, 4.0, 1.0])"
   ]
  },
  {
   "cell_type": "code",
   "execution_count": 22,
   "metadata": {
    "collapsed": false
   },
   "outputs": [
    {
     "name": "stdout",
     "output_type": "stream",
     "text": [
      "Get Numpy Data\n",
      "feature matrix \n",
      "[[ 0.00680209  0.00353021  0.00583571]\n",
      " [ 0.00680209  0.00768869  0.00583571]\n",
      " [ 0.00680209  0.00230361  0.00389048]\n",
      " ..., \n",
      " [ 0.00680209  0.00305154  0.00389048]\n",
      " [ 0.00680209  0.00478673  0.00583571]\n",
      " [ 0.00680209  0.00305154  0.00389048]]\n",
      "\n",
      "weights \n",
      "[ 1.  4.  1.]\n",
      "\n",
      "predictions \n",
      "[ 0.02675867  0.04339256  0.01990703 ...,  0.02289873  0.03178473\n",
      "  0.02289873]\n",
      "\n"
     ]
    }
   ],
   "source": [
    "prediction = predict_output(simple_feature_matrix, weights, verbose=True)"
   ]
  },
  {
   "cell_type": "code",
   "execution_count": 23,
   "metadata": {
    "collapsed": false
   },
   "outputs": [
    {
     "name": "stdout",
     "output_type": "stream",
     "text": [
      "rho: \n",
      "[79400300.034929156, 87939470.772991076, 80966698.675965652]\n",
      "\n"
     ]
    }
   ],
   "source": [
    "rho = []\n",
    "\n",
    "for i in range(len(weights)):\n",
    "    feature_i = simple_feature_matrix[:, i]\n",
    "    rho_i = (feature_i * (output - prediction + weights[i] * feature_i)).sum()\n",
    "    \n",
    "    rho.append(rho_i)\n",
    "\n",
    "print('rho: \\n%s\\n' % rho)"
   ]
  },
  {
   "cell_type": "markdown",
   "metadata": {
    "collapsed": true
   },
   "source": [
    "<a id=\"q1\"></a>\n",
    "### Quiz Question 1:\n",
    "Recall that, whenever ro[i] falls between -l1_penalty/2 and l1_penalty/2, the corresponding weight w[i] is sent to zero. Now suppose we were to take one step of coordinate descent on either feature 1 or feature 2. What range of values of l1_penalty would not set w[1] zero, but would set w[2] to zero, if we were to take a step in that coordinate?"
   ]
  },
  {
   "cell_type": "markdown",
   "metadata": {},
   "source": [
    "<a id=\"q2\"></a>\n",
    "### Quiz Question 2:\n",
    "What range of values of `l1_penalty` would set **both** `w[1]` and `w[2]` to zero, if we were to take a step in that coordinate? "
   ]
  },
  {
   "cell_type": "markdown",
   "metadata": {},
   "source": [
    "<a id=\"single\"></a>\n",
    "## Single Coordinate Descent Step"
   ]
  },
  {
   "cell_type": "code",
   "execution_count": 24,
   "metadata": {
    "collapsed": true
   },
   "outputs": [],
   "source": [
    "def lasso_coordinate_descent_step(i, feature_matrix, output, weights, l1_penalty, show_input=False, show_output=False):\n",
    "    # compute prediction\n",
    "    norm_feature_matrix, norms = normalize_features(feature_matrix)\n",
    "    prediction = predict_output(norm_feature_matrix, weights)\n",
    "    # compute ro[i] = SUM[ [feature_i]*(output - prediction + weight[i]*[feature_i]) ]\n",
    "    feature_i = norm_feature_matrix[:, i]\n",
    "    rho_i  = (feature_i * (output - prediction + weights[i] * feature_i)).sum()\n",
    "    \n",
    "    if i == 0: # intercept -- do not regularize\n",
    "        new_weight_i = rho_i \n",
    "    elif rho_i < -l1_penalty / 2.0:\n",
    "        new_weight_i = rho_i + l1_penalty / 2\n",
    "    elif rho_i > l1_penalty / 2.0:\n",
    "        new_weight_i = rho_i - l1_penalty / 2\n",
    "    else:\n",
    "        new_weight_i = 0.0\n",
    "    \n",
    "    if show_input is True:\n",
    "        print('Lasso Coordinate Descent Step')\n",
    "        print('i: \\n%i\\n' % i)\n",
    "        print('feature matrix: \\n%s\\n' % str(feature_matrix))\n",
    "        print('output: \\n%s\\n' % str(output))\n",
    "        print('weights: \\n%s\\n' % weights)\n",
    "        print('l1 penalty: \\n%0.2f\\n' % l1_penalty)\n",
    "        \n",
    "    if show_output is True:\n",
    "        print('new weight i: \\n%0.2f\\n' % new_weight_i)\n",
    "    \n",
    "    return new_weight_i"
   ]
  },
  {
   "cell_type": "code",
   "execution_count": 25,
   "metadata": {
    "collapsed": false
   },
   "outputs": [
    {
     "name": "stdout",
     "output_type": "stream",
     "text": [
      "new weight i: \n",
      "0.43\n",
      "\n"
     ]
    },
    {
     "data": {
      "text/plain": [
       "0.42555884669102573"
      ]
     },
     "execution_count": 25,
     "metadata": {},
     "output_type": "execute_result"
    }
   ],
   "source": [
    "# should print 0.425558846691\n",
    "import math\n",
    "\n",
    "test_i= 1\n",
    "test_feature_matrix = np.array([[3./math.sqrt(13),1./math.sqrt(10)],\n",
    "                           [2./math.sqrt(13),3./math.sqrt(10)]])\n",
    "test_output = np.array([1., 1.])\n",
    "test_weights = np.array([1., 4.])\n",
    "test_l1_penalty = 0.1\n",
    "\n",
    "lasso_coordinate_descent_step(test_i, test_feature_matrix, test_output,\n",
    "                              test_weights, test_l1_penalty, \n",
    "                              show_input=False, show_output=True)"
   ]
  },
  {
   "cell_type": "markdown",
   "metadata": {},
   "source": [
    "<a id=\"cyclical\"></a>\n",
    "## Cyclical Coordinate Descent"
   ]
  },
  {
   "cell_type": "code",
   "execution_count": 26,
   "metadata": {
    "collapsed": true
   },
   "outputs": [],
   "source": [
    "from copy import copy\n",
    "\n",
    "def lasso_cyclical_coordinate_descent(feature_matrix, output, initial_weights, l1_penalty, tolerance, show_input=False, verbose=False, show_output=False):\n",
    "    if verbose is True:\n",
    "        print(\"Lasso Cyclical Coordinate Descent\")\n",
    "    \n",
    "    # Create a shallow copy to keep from changing initial_weights\n",
    "    weights = copy(initial_weights)\n",
    "    \n",
    "    # Set max iterations to ensure loop finishes\n",
    "    max_iterations = 10000\n",
    "    for n in range(max_iterations):\n",
    "        # again will be set to True on every iteration of inner loop until\n",
    "        # all diffs are less than tolerance\n",
    "        again = False\n",
    "        \n",
    "        for i in range(len(weights)):\n",
    "            # Save a copy before changing weight[i] so that diff can be taken\n",
    "            old_weight_i = weights[i]\n",
    "            weights[i] = lasso_coordinate_descent_step(i, feature_matrix, output, weights, l1_penalty)\n",
    "            \n",
    "            # Take diff between new and old weights\n",
    "            diff = weights[i] - old_weight_i\n",
    "            \n",
    "            if diff > tolerance:\n",
    "                again = True\n",
    "            \n",
    "        # Break if all diffs were less than tolerance\n",
    "        if again is False:\n",
    "            break\n",
    "    \n",
    "    # return None if loop completes without finding a minimum\n",
    "    if again is True:\n",
    "        return None\n",
    "        \n",
    "    if show_input is True:\n",
    "        print(\"Lasso Cyclical Coordinate Descent\")\n",
    "        print('feature matrix: \\n%s\\n' % str(feature_matrix))\n",
    "        print('output: \\n%s\\n' % str(output))\n",
    "        print('initial weights: \\n%s\\n' % weights)\n",
    "        print('l1 penalty: \\n%0.2f\\n' % l1_penalty)\n",
    "        \n",
    "    if show_output is True:\n",
    "        print('weights: \\n%s\\n' % weights)\n",
    "    \n",
    "    return weights   "
   ]
  },
  {
   "cell_type": "code",
   "execution_count": 27,
   "metadata": {
    "collapsed": false
   },
   "outputs": [
    {
     "name": "stdout",
     "output_type": "stream",
     "text": [
      "weights: \n",
      "[ 21624999.22590417  63157245.99915871         0.        ]\n",
      "\n"
     ]
    }
   ],
   "source": [
    "simple_features = ['sqft_living', 'bedrooms']\n",
    "my_output = 'price'\n",
    "initial_weights = np.zeros(3)\n",
    "l1_penalty = 1e7\n",
    "tolerance = 1.0\n",
    "\n",
    "(simple_feature_matrix, output) = get_numpy_data(sales, simple_features, my_output)\n",
    "(normalized_simple_feature_matrix, simple_norms) = normalize_features(simple_feature_matrix) # normalize features\n",
    "\n",
    "weights = lasso_cyclical_coordinate_descent(normalized_simple_feature_matrix, output,\n",
    "                                            initial_weights, l1_penalty, tolerance, \n",
    "                                            show_output=True)"
   ]
  },
  {
   "cell_type": "markdown",
   "metadata": {
    "collapsed": true
   },
   "source": [
    "<a id=\"q3\"></a>\n",
    "### Quiz Question 3:\n",
    "What is the RSS of the learned model on the normalized dataset?"
   ]
  },
  {
   "cell_type": "code",
   "execution_count": null,
   "metadata": {
    "collapsed": true
   },
   "outputs": [],
   "source": []
  },
  {
   "cell_type": "markdown",
   "metadata": {},
   "source": [
    "<a id=\"q4\"></a>\n",
    "### Quiz Question 4:\n",
    "Which features had weight zero at convergence?"
   ]
  },
  {
   "cell_type": "code",
   "execution_count": null,
   "metadata": {
    "collapsed": true
   },
   "outputs": [],
   "source": []
  }
 ],
 "metadata": {
  "kernelspec": {
   "display_name": "Python 2",
   "language": "python",
   "name": "python2"
  },
  "language_info": {
   "codemirror_mode": {
    "name": "ipython",
    "version": 2
   },
   "file_extension": ".py",
   "mimetype": "text/x-python",
   "name": "python",
   "nbconvert_exporter": "python",
   "pygments_lexer": "ipython2",
   "version": "2.7.10"
  }
 },
 "nbformat": 4,
 "nbformat_minor": 0
}
