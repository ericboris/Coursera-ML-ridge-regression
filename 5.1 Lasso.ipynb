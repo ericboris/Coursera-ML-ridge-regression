{
 "cells": [
  {
   "cell_type": "markdown",
   "metadata": {},
   "source": [
    "# Regression Week 5: Feature Selection and LASSO (Interpretation)"
   ]
  },
  {
   "cell_type": "markdown",
   "metadata": {},
   "source": [
    "In this notebook we'll learn to use LASSO to select features by building on a pre-implemented LASSO solver. \n",
    "\n",
    "Contents:\n",
    "* [Import GraphLab and Sales Data](#import)\n",
    "* [Feature Engineering: Round 2](#feature)\n",
    "* [Train Regression Model with L1 Penalty](#train)\n",
    "  * [Q1: Chosen Features](#q1)\n",
    "* [Choose the Best L1 Penalty](#choose)\n",
    "  * [Q2: Best L1 Value](#q2)\n",
    "  * [Q3: RSS on Test Data](#q3)\n",
    "  * [Q4: Nonzero Weights](#q4)\n",
    "* [Limit the Number of Nonzero Weights](#limit)\n",
    "  * [Explore a Broad Range to Find Approximate L1 Penalties](#broad)\n",
    "  * [Q5: Minimum L1 Penalty](#q5)\n",
    "  * [Q6: Maximum L1 Penalty](#q6)\n",
    "  * [Explore the Narrow Range to Minimize RSS](#narrow)\n",
    "  * [Q7: L1 Penalty with Lowest RSS](#q7)\n",
    "  * [Q8: Features with Nonzero Coefficients](#q8) "
   ]
  },
  {
   "cell_type": "markdown",
   "metadata": {},
   "source": [
    "<a id=\"import\"></a>\n",
    "## Import GraphLab and Sales Data"
   ]
  },
  {
   "cell_type": "code",
   "execution_count": 14,
   "metadata": {
    "collapsed": false
   },
   "outputs": [],
   "source": [
    "import graphlab as gl"
   ]
  },
  {
   "cell_type": "code",
   "execution_count": 15,
   "metadata": {
    "collapsed": false
   },
   "outputs": [],
   "source": [
    "sales = gl.SFrame('kc_house_data.gl/')"
   ]
  },
  {
   "cell_type": "markdown",
   "metadata": {},
   "source": [
    "<a id=\"feature\"></a>\n",
    "## Feature Engineering: Round 2"
   ]
  },
  {
   "cell_type": "markdown",
   "metadata": {},
   "source": [
    "As in week 2, let's make some new features for ourselves. We'll also need to import a couple functions from the math library. "
   ]
  },
  {
   "cell_type": "code",
   "execution_count": 16,
   "metadata": {
    "collapsed": true
   },
   "outputs": [],
   "source": [
    "from math import log, sqrt"
   ]
  },
  {
   "cell_type": "code",
   "execution_count": 17,
   "metadata": {
    "collapsed": true
   },
   "outputs": [],
   "source": [
    "sales['sqft_living_sqrt'] = sales['sqft_living'].apply(sqrt)\n",
    "sales['sqft_lot_sqrt'] = sales['sqft_lot'].apply(sqrt)\n",
    "sales['bedrooms_square'] = sales['bedrooms'] * sales['bedrooms']\n",
    "\n",
    "# In the dataset, the 'floors' column is defined as type string\n",
    "# We have to convert it to a float before we can transform it\n",
    "sales['floors'] = sales['floors'].astype(float)\n",
    "sales['floors_square'] = sales['floors'] * sales['floors']"
   ]
  },
  {
   "cell_type": "markdown",
   "metadata": {},
   "source": [
    "When we square a feature such as 'bedrooms' and 'floors', it increases the separation between cases with few instances (e.g. 1) and cases with many instances (e.g. 2), since 1 ^ 2 == 1 but 4 ^ 2 == 16. As such, the larger the instance the larger the effect will be. \n",
    "\n",
    "Conversely, taking the square root of a feature such as 'sqft_living' and 'sqft_lot', will decrease the separation between instances since doubling a feature shouldn't necessarily double the effect. "
   ]
  },
  {
   "cell_type": "markdown",
   "metadata": {},
   "source": [
    "<a id=\"train\"></a>\n",
    "## Train Regression Model with L1 Penalty"
   ]
  },
  {
   "cell_type": "markdown",
   "metadata": {},
   "source": [
    "Let's train a model using all of the features from sales. To start, we'll select all of the features that we want to use.  "
   ]
  },
  {
   "cell_type": "code",
   "execution_count": 18,
   "metadata": {
    "collapsed": false
   },
   "outputs": [
    {
     "name": "stdout",
     "output_type": "stream",
     "text": [
      "All Features: \n",
      "['bedrooms', 'bathrooms', 'sqft_living', 'sqft_lot', 'floors', 'waterfront', 'view', 'condition', 'grade', 'sqft_above', 'sqft_basement', 'yr_built', 'yr_renovated', 'zipcode', 'lat', 'long', 'sqft_living15', 'sqft_lot15', 'sqft_living_sqrt', 'sqft_lot_sqrt', 'bedrooms_square', 'floors_square']\n",
      "\n"
     ]
    }
   ],
   "source": [
    "# Exclude the first 3 columns: id, date, and price\n",
    "all_features = sales.column_names()[3:]\n",
    "\n",
    "print('All Features: \\n%s\\n' % str(all_features))"
   ]
  },
  {
   "cell_type": "markdown",
   "metadata": {},
   "source": [
    "Now, we can train a model with a small L1 penalty and no L2 penalty."
   ]
  },
  {
   "cell_type": "code",
   "execution_count": 19,
   "metadata": {
    "collapsed": true
   },
   "outputs": [],
   "source": [
    "small_l1_penalty = 1e10\n",
    "\n",
    "all_features_model = gl.linear_regression.create(sales,\n",
    "                                                 target='price',\n",
    "                                                 features=all_features,\n",
    "                                                 validation_set=None,\n",
    "                                                 l1_penalty=small_l1_penalty,\n",
    "                                                 l2_penalty=0.0,\n",
    "                                                 verbose=False)"
   ]
  },
  {
   "cell_type": "markdown",
   "metadata": {},
   "source": [
    "<a id=\"q1\"></a>\n",
    "### Quiz Question 1:\n",
    "Which features have been chosen, i.e. which coefficients have not been reduced to 0?"
   ]
  },
  {
   "cell_type": "code",
   "execution_count": 20,
   "metadata": {
    "collapsed": false
   },
   "outputs": [
    {
     "data": {
      "text/html": [
       "<div style=\"max-height:1000px;max-width:1500px;overflow:auto;\"><table frame=\"box\" rules=\"cols\">\n",
       "    <tr>\n",
       "        <th style=\"padding-left: 1em; padding-right: 1em; text-align: center\">name</th>\n",
       "        <th style=\"padding-left: 1em; padding-right: 1em; text-align: center\">index</th>\n",
       "        <th style=\"padding-left: 1em; padding-right: 1em; text-align: center\">value</th>\n",
       "        <th style=\"padding-left: 1em; padding-right: 1em; text-align: center\">stderr</th>\n",
       "    </tr>\n",
       "    <tr>\n",
       "        <td style=\"padding-left: 1em; padding-right: 1em; text-align: center; vertical-align: top\">(intercept)</td>\n",
       "        <td style=\"padding-left: 1em; padding-right: 1em; text-align: center; vertical-align: top\">None</td>\n",
       "        <td style=\"padding-left: 1em; padding-right: 1em; text-align: center; vertical-align: top\">270043.384256</td>\n",
       "        <td style=\"padding-left: 1em; padding-right: 1em; text-align: center; vertical-align: top\">None</td>\n",
       "    </tr>\n",
       "    <tr>\n",
       "        <td style=\"padding-left: 1em; padding-right: 1em; text-align: center; vertical-align: top\">bathrooms</td>\n",
       "        <td style=\"padding-left: 1em; padding-right: 1em; text-align: center; vertical-align: top\">None</td>\n",
       "        <td style=\"padding-left: 1em; padding-right: 1em; text-align: center; vertical-align: top\">6699.71721943</td>\n",
       "        <td style=\"padding-left: 1em; padding-right: 1em; text-align: center; vertical-align: top\">None</td>\n",
       "    </tr>\n",
       "    <tr>\n",
       "        <td style=\"padding-left: 1em; padding-right: 1em; text-align: center; vertical-align: top\">sqft_living</td>\n",
       "        <td style=\"padding-left: 1em; padding-right: 1em; text-align: center; vertical-align: top\">None</td>\n",
       "        <td style=\"padding-left: 1em; padding-right: 1em; text-align: center; vertical-align: top\">22.5213492398</td>\n",
       "        <td style=\"padding-left: 1em; padding-right: 1em; text-align: center; vertical-align: top\">None</td>\n",
       "    </tr>\n",
       "    <tr>\n",
       "        <td style=\"padding-left: 1em; padding-right: 1em; text-align: center; vertical-align: top\">grade</td>\n",
       "        <td style=\"padding-left: 1em; padding-right: 1em; text-align: center; vertical-align: top\">None</td>\n",
       "        <td style=\"padding-left: 1em; padding-right: 1em; text-align: center; vertical-align: top\">213.394377792</td>\n",
       "        <td style=\"padding-left: 1em; padding-right: 1em; text-align: center; vertical-align: top\">None</td>\n",
       "    </tr>\n",
       "    <tr>\n",
       "        <td style=\"padding-left: 1em; padding-right: 1em; text-align: center; vertical-align: top\">sqft_above</td>\n",
       "        <td style=\"padding-left: 1em; padding-right: 1em; text-align: center; vertical-align: top\">None</td>\n",
       "        <td style=\"padding-left: 1em; padding-right: 1em; text-align: center; vertical-align: top\">17.8152430447</td>\n",
       "        <td style=\"padding-left: 1em; padding-right: 1em; text-align: center; vertical-align: top\">None</td>\n",
       "    </tr>\n",
       "    <tr>\n",
       "        <td style=\"padding-left: 1em; padding-right: 1em; text-align: center; vertical-align: top\">sqft_living15</td>\n",
       "        <td style=\"padding-left: 1em; padding-right: 1em; text-align: center; vertical-align: top\">None</td>\n",
       "        <td style=\"padding-left: 1em; padding-right: 1em; text-align: center; vertical-align: top\">11.0941292701</td>\n",
       "        <td style=\"padding-left: 1em; padding-right: 1em; text-align: center; vertical-align: top\">None</td>\n",
       "    </tr>\n",
       "    <tr>\n",
       "        <td style=\"padding-left: 1em; padding-right: 1em; text-align: center; vertical-align: top\">sqft_living_sqrt</td>\n",
       "        <td style=\"padding-left: 1em; padding-right: 1em; text-align: center; vertical-align: top\">None</td>\n",
       "        <td style=\"padding-left: 1em; padding-right: 1em; text-align: center; vertical-align: top\">247.823348372</td>\n",
       "        <td style=\"padding-left: 1em; padding-right: 1em; text-align: center; vertical-align: top\">None</td>\n",
       "    </tr>\n",
       "</table>\n",
       "[? rows x 4 columns]<br/>Note: Only the head of the SFrame is printed. This SFrame is lazily evaluated.<br/>You can use len(sf) to force materialization.\n",
       "</div>"
      ],
      "text/plain": [
       "Columns:\n",
       "\tname\tstr\n",
       "\tindex\tstr\n",
       "\tvalue\tfloat\n",
       "\tstderr\tfloat\n",
       "\n",
       "Rows: Unknown\n",
       "\n",
       "Data:\n",
       "+------------------+-------+---------------+--------+\n",
       "|       name       | index |     value     | stderr |\n",
       "+------------------+-------+---------------+--------+\n",
       "|   (intercept)    |  None | 270043.384256 |  None  |\n",
       "|    bathrooms     |  None | 6699.71721943 |  None  |\n",
       "|   sqft_living    |  None | 22.5213492398 |  None  |\n",
       "|      grade       |  None | 213.394377792 |  None  |\n",
       "|    sqft_above    |  None | 17.8152430447 |  None  |\n",
       "|  sqft_living15   |  None | 11.0941292701 |  None  |\n",
       "| sqft_living_sqrt |  None | 247.823348372 |  None  |\n",
       "+------------------+-------+---------------+--------+\n",
       "[? rows x 4 columns]\n",
       "Note: Only the head of the SFrame is printed. This SFrame is lazily evaluated.\n",
       "You can use len(sf) to force materialization."
      ]
     },
     "execution_count": 20,
     "metadata": {},
     "output_type": "execute_result"
    }
   ],
   "source": [
    "all_features_model.get('coefficients').filter_by(0.0, 'value', exclude=True)"
   ]
  },
  {
   "cell_type": "code",
   "execution_count": 21,
   "metadata": {
    "collapsed": false
   },
   "outputs": [
    {
     "name": "stdout",
     "output_type": "stream",
     "text": [
      "+------------------+-------+---------------+--------+\n",
      "|       name       | index |     value     | stderr |\n",
      "+------------------+-------+---------------+--------+\n",
      "|   (intercept)    |  None | 270043.384256 |  None  |\n",
      "|    bathrooms     |  None | 6699.71721943 |  None  |\n",
      "|   sqft_living    |  None | 22.5213492398 |  None  |\n",
      "|      grade       |  None | 213.394377792 |  None  |\n",
      "|    sqft_above    |  None | 17.8152430447 |  None  |\n",
      "|  sqft_living15   |  None | 11.0941292701 |  None  |\n",
      "| sqft_living_sqrt |  None | 247.823348372 |  None  |\n",
      "+------------------+-------+---------------+--------+\n",
      "[7 rows x 4 columns]\n",
      "\n"
     ]
    }
   ],
   "source": [
    "a = all_features_model.get('coefficients').filter_by(0.0, 'value', exclude=True)\n",
    "n_rows = len(a)\n",
    "a.print_rows(n_rows)"
   ]
  },
  {
   "cell_type": "markdown",
   "metadata": {},
   "source": [
    "<a id=\"choose\"></a>\n",
    "## Choose the Best L1 Penalty"
   ]
  },
  {
   "cell_type": "markdown",
   "metadata": {},
   "source": [
    "The choose the best L1 penalty we'll explore multiple values using a validation set. To accomplish that, we'll do what we've done before and split sales into 3 datasets. "
   ]
  },
  {
   "cell_type": "code",
   "execution_count": 22,
   "metadata": {
    "collapsed": true
   },
   "outputs": [],
   "source": [
    "(training_and_validation, testing) = sales.random_split(0.9, seed=1)\n",
    "(training, validation) = sales.random_split(0.5, seed=1)"
   ]
  },
  {
   "cell_type": "code",
   "execution_count": 23,
   "metadata": {
    "collapsed": true
   },
   "outputs": [],
   "source": [
    "import numpy as np\n",
    "from regression import get_residual_sum_of_squares"
   ]
  },
  {
   "cell_type": "code",
   "execution_count": 24,
   "metadata": {
    "collapsed": false
   },
   "outputs": [],
   "source": [
    "small_penalty_range = np.logspace(1, 7, num=13)\n",
    "residuals_over_small_range = []\n",
    "\n",
    "for p in small_penalty_range:\n",
    "    model = gl.linear_regression.create(training,\n",
    "                                        target='price',\n",
    "                                        features=all_features,\n",
    "                                        validation_set=None,\n",
    "                                        l1_penalty=p,\n",
    "                                        l2_penalty=0.0,\n",
    "                                        verbose=False)\n",
    "    \n",
    "    rss = get_residual_sum_of_squares(model, validation, validation['price'])\n",
    "    residuals_over_small_range.append(rss)"
   ]
  },
  {
   "cell_type": "code",
   "execution_count": 45,
   "metadata": {
    "collapsed": false,
    "scrolled": true
   },
   "outputs": [
    {
     "data": {
      "text/html": [
       "<div style=\"max-height:1000px;max-width:1500px;overflow:auto;\"><table frame=\"box\" rules=\"cols\">\n",
       "    <tr>\n",
       "        <th style=\"padding-left: 1em; padding-right: 1em; text-align: center\">Penalties</th>\n",
       "        <th style=\"padding-left: 1em; padding-right: 1em; text-align: center\">RSS</th>\n",
       "    </tr>\n",
       "    <tr>\n",
       "        <td style=\"padding-left: 1em; padding-right: 1em; text-align: center; vertical-align: top\">10.0</td>\n",
       "        <td style=\"padding-left: 1em; padding-right: 1em; text-align: center; vertical-align: top\">3.96933187968e+14</td>\n",
       "    </tr>\n",
       "    <tr>\n",
       "        <td style=\"padding-left: 1em; padding-right: 1em; text-align: center; vertical-align: top\">31.6227766017</td>\n",
       "        <td style=\"padding-left: 1em; padding-right: 1em; text-align: center; vertical-align: top\">3.96933192192e+14</td>\n",
       "    </tr>\n",
       "    <tr>\n",
       "        <td style=\"padding-left: 1em; padding-right: 1em; text-align: center; vertical-align: top\">100.0</td>\n",
       "        <td style=\"padding-left: 1em; padding-right: 1em; text-align: center; vertical-align: top\">3.96933205551e+14</td>\n",
       "    </tr>\n",
       "    <tr>\n",
       "        <td style=\"padding-left: 1em; padding-right: 1em; text-align: center; vertical-align: top\">316.227766017</td>\n",
       "        <td style=\"padding-left: 1em; padding-right: 1em; text-align: center; vertical-align: top\">3.96933247795e+14</td>\n",
       "    </tr>\n",
       "</table>\n",
       "[4 rows x 2 columns]<br/>\n",
       "</div>"
      ],
      "text/plain": [
       "Columns:\n",
       "\tPenalties\tfloat\n",
       "\tRSS\tfloat\n",
       "\n",
       "Rows: 4\n",
       "\n",
       "Data:\n",
       "+---------------+-------------------+\n",
       "|   Penalties   |        RSS        |\n",
       "+---------------+-------------------+\n",
       "|      10.0     | 3.96933187968e+14 |\n",
       "| 31.6227766017 | 3.96933192192e+14 |\n",
       "|     100.0     | 3.96933205551e+14 |\n",
       "| 316.227766017 | 3.96933247795e+14 |\n",
       "+---------------+-------------------+\n",
       "[4 rows x 2 columns]"
      ]
     },
     "execution_count": 45,
     "metadata": {},
     "output_type": "execute_result"
    }
   ],
   "source": [
    "penalties_and_rss = gl.SFrame({'Penalties':small_penalty_range,\n",
    "                               'RSS':residuals_over_small_range})\n",
    "\n",
    "penalties_and_rss.head(4)"
   ]
  },
  {
   "cell_type": "markdown",
   "metadata": {
    "collapsed": true
   },
   "source": [
    "<a id=\"q2\"></a>\n",
    "### Quiz Question 2:\n",
    "What is the best value for the `l1_penalty`, i.e. what `l1_penalty` has the lowest RSS?"
   ]
  },
  {
   "cell_type": "code",
   "execution_count": 46,
   "metadata": {
    "collapsed": false
   },
   "outputs": [
    {
     "name": "stdout",
     "output_type": "stream",
     "text": [
      "L1 Penalty: 10.00\n",
      "Lowest RSS: 3.97e+14\n",
      "\n"
     ]
    }
   ],
   "source": [
    "min_rss_index = penalties_and_rss['RSS'].argmin()\n",
    "\n",
    "penalty_with_smallest_rss = penalties_and_rss[min_rss_index]['Penalties']\n",
    "min_rss = penalties_and_rss[min_rss_index]['RSS']\n",
    "\n",
    "print('L1 Penalty: %0.2f\\nLowest RSS: %0.2e\\n' % (penalty_with_smallest_rss, min_rss))"
   ]
  },
  {
   "cell_type": "markdown",
   "metadata": {},
   "source": [
    "<a id=\"q3\"></a>\n",
    "### Quiz Question 3:\n",
    "What is the RSS on Test data of the model with the best l1_penalty?"
   ]
  },
  {
   "cell_type": "code",
   "execution_count": 47,
   "metadata": {
    "collapsed": true
   },
   "outputs": [],
   "source": [
    "best_penalty = 10.00\n",
    "\n",
    "model_w_best_penalty = gl.linear_regression.create(training,\n",
    "                                                   target='price',\n",
    "                                                   features=all_features,\n",
    "                                                   validation_set=None,\n",
    "                                                   l1_penalty=best_penalty,\n",
    "                                                   l2_penalty=0.0,\n",
    "                                                   verbose=False)"
   ]
  },
  {
   "cell_type": "code",
   "execution_count": 48,
   "metadata": {
    "collapsed": false
   },
   "outputs": [
    {
     "name": "stdout",
     "output_type": "stream",
     "text": [
      "RSS on Test Data with best L1 Penalty: \n",
      "8.24e+13\n",
      "\n"
     ]
    }
   ],
   "source": [
    "test_rss = get_residual_sum_of_squares(model_w_best_penalty, testing, testing['price'])\n",
    "\n",
    "print('RSS on Test Data with best L1 Penalty: \\n%0.2e\\n' % test_rss)"
   ]
  },
  {
   "cell_type": "markdown",
   "metadata": {},
   "source": [
    "<a id=\"q4\"></a>\n",
    "### Quiz Question 4:\n",
    "Using this value of L1 penalty, how many nonzero weights are there?"
   ]
  },
  {
   "cell_type": "code",
   "execution_count": 49,
   "metadata": {
    "collapsed": false
   },
   "outputs": [
    {
     "name": "stdout",
     "output_type": "stream",
     "text": [
      "Number of Nonzero Coefficients: 91\n",
      "\n"
     ]
    }
   ],
   "source": [
    "n_nonzero_coefficients = model_w_best_penalty['coefficients']['value'].nnz()\n",
    "\n",
    "print(\"Number of Nonzero Coefficients: %i\\n\" % n_nonzero_coefficients)"
   ]
  },
  {
   "cell_type": "code",
   "execution_count": 50,
   "metadata": {
    "collapsed": false
   },
   "outputs": [
    {
     "data": {
      "text/html": [
       "<div style=\"max-height:1000px;max-width:1500px;overflow:auto;\"><table frame=\"box\" rules=\"cols\">\n",
       "    <tr>\n",
       "        <th style=\"padding-left: 1em; padding-right: 1em; text-align: center\">name</th>\n",
       "        <th style=\"padding-left: 1em; padding-right: 1em; text-align: center\">index</th>\n",
       "        <th style=\"padding-left: 1em; padding-right: 1em; text-align: center\">value</th>\n",
       "        <th style=\"padding-left: 1em; padding-right: 1em; text-align: center\">stderr</th>\n",
       "    </tr>\n",
       "    <tr>\n",
       "        <td style=\"padding-left: 1em; padding-right: 1em; text-align: center; vertical-align: top\">(intercept)</td>\n",
       "        <td style=\"padding-left: 1em; padding-right: 1em; text-align: center; vertical-align: top\">None</td>\n",
       "        <td style=\"padding-left: 1em; padding-right: 1em; text-align: center; vertical-align: top\">16767.2865225</td>\n",
       "        <td style=\"padding-left: 1em; padding-right: 1em; text-align: center; vertical-align: top\">None</td>\n",
       "    </tr>\n",
       "    <tr>\n",
       "        <td style=\"padding-left: 1em; padding-right: 1em; text-align: center; vertical-align: top\">bedrooms</td>\n",
       "        <td style=\"padding-left: 1em; padding-right: 1em; text-align: center; vertical-align: top\">None</td>\n",
       "        <td style=\"padding-left: 1em; padding-right: 1em; text-align: center; vertical-align: top\">7098.52271832</td>\n",
       "        <td style=\"padding-left: 1em; padding-right: 1em; text-align: center; vertical-align: top\">None</td>\n",
       "    </tr>\n",
       "    <tr>\n",
       "        <td style=\"padding-left: 1em; padding-right: 1em; text-align: center; vertical-align: top\">bathrooms</td>\n",
       "        <td style=\"padding-left: 1em; padding-right: 1em; text-align: center; vertical-align: top\">None</td>\n",
       "        <td style=\"padding-left: 1em; padding-right: 1em; text-align: center; vertical-align: top\">20384.9007359</td>\n",
       "        <td style=\"padding-left: 1em; padding-right: 1em; text-align: center; vertical-align: top\">None</td>\n",
       "    </tr>\n",
       "    <tr>\n",
       "        <td style=\"padding-left: 1em; padding-right: 1em; text-align: center; vertical-align: top\">sqft_living</td>\n",
       "        <td style=\"padding-left: 1em; padding-right: 1em; text-align: center; vertical-align: top\">None</td>\n",
       "        <td style=\"padding-left: 1em; padding-right: 1em; text-align: center; vertical-align: top\">30.1640061731</td>\n",
       "        <td style=\"padding-left: 1em; padding-right: 1em; text-align: center; vertical-align: top\">None</td>\n",
       "    </tr>\n",
       "    <tr>\n",
       "        <td style=\"padding-left: 1em; padding-right: 1em; text-align: center; vertical-align: top\">sqft_lot</td>\n",
       "        <td style=\"padding-left: 1em; padding-right: 1em; text-align: center; vertical-align: top\">None</td>\n",
       "        <td style=\"padding-left: 1em; padding-right: 1em; text-align: center; vertical-align: top\">0.134267643378</td>\n",
       "        <td style=\"padding-left: 1em; padding-right: 1em; text-align: center; vertical-align: top\">None</td>\n",
       "    </tr>\n",
       "    <tr>\n",
       "        <td style=\"padding-left: 1em; padding-right: 1em; text-align: center; vertical-align: top\">floors</td>\n",
       "        <td style=\"padding-left: 1em; padding-right: 1em; text-align: center; vertical-align: top\">None</td>\n",
       "        <td style=\"padding-left: 1em; padding-right: 1em; text-align: center; vertical-align: top\">17343.1987875</td>\n",
       "        <td style=\"padding-left: 1em; padding-right: 1em; text-align: center; vertical-align: top\">None</td>\n",
       "    </tr>\n",
       "    <tr>\n",
       "        <td style=\"padding-left: 1em; padding-right: 1em; text-align: center; vertical-align: top\">waterfront</td>\n",
       "        <td style=\"padding-left: 1em; padding-right: 1em; text-align: center; vertical-align: top\">None</td>\n",
       "        <td style=\"padding-left: 1em; padding-right: 1em; text-align: center; vertical-align: top\">462926.524599</td>\n",
       "        <td style=\"padding-left: 1em; padding-right: 1em; text-align: center; vertical-align: top\">None</td>\n",
       "    </tr>\n",
       "    <tr>\n",
       "        <td style=\"padding-left: 1em; padding-right: 1em; text-align: center; vertical-align: top\">view</td>\n",
       "        <td style=\"padding-left: 1em; padding-right: 1em; text-align: center; vertical-align: top\">None</td>\n",
       "        <td style=\"padding-left: 1em; padding-right: 1em; text-align: center; vertical-align: top\">80178.8955573</td>\n",
       "        <td style=\"padding-left: 1em; padding-right: 1em; text-align: center; vertical-align: top\">None</td>\n",
       "    </tr>\n",
       "    <tr>\n",
       "        <td style=\"padding-left: 1em; padding-right: 1em; text-align: center; vertical-align: top\">condition</td>\n",
       "        <td style=\"padding-left: 1em; padding-right: 1em; text-align: center; vertical-align: top\">None</td>\n",
       "        <td style=\"padding-left: 1em; padding-right: 1em; text-align: center; vertical-align: top\">5389.32009259</td>\n",
       "        <td style=\"padding-left: 1em; padding-right: 1em; text-align: center; vertical-align: top\">None</td>\n",
       "    </tr>\n",
       "    <tr>\n",
       "        <td style=\"padding-left: 1em; padding-right: 1em; text-align: center; vertical-align: top\">grade</td>\n",
       "        <td style=\"padding-left: 1em; padding-right: 1em; text-align: center; vertical-align: top\">None</td>\n",
       "        <td style=\"padding-left: 1em; padding-right: 1em; text-align: center; vertical-align: top\">4769.46036056</td>\n",
       "        <td style=\"padding-left: 1em; padding-right: 1em; text-align: center; vertical-align: top\">None</td>\n",
       "    </tr>\n",
       "</table>\n",
       "[91 rows x 4 columns]<br/>Note: Only the head of the SFrame is printed.<br/>You can use print_rows(num_rows=m, num_columns=n) to print more rows and columns.\n",
       "</div>"
      ],
      "text/plain": [
       "Columns:\n",
       "\tname\tstr\n",
       "\tindex\tstr\n",
       "\tvalue\tfloat\n",
       "\tstderr\tfloat\n",
       "\n",
       "Rows: 91\n",
       "\n",
       "Data:\n",
       "+-------------+-------+----------------+--------+\n",
       "|     name    | index |     value      | stderr |\n",
       "+-------------+-------+----------------+--------+\n",
       "| (intercept) |  None | 16767.2865225  |  None  |\n",
       "|   bedrooms  |  None | 7098.52271832  |  None  |\n",
       "|  bathrooms  |  None | 20384.9007359  |  None  |\n",
       "| sqft_living |  None | 30.1640061731  |  None  |\n",
       "|   sqft_lot  |  None | 0.134267643378 |  None  |\n",
       "|    floors   |  None | 17343.1987875  |  None  |\n",
       "|  waterfront |  None | 462926.524599  |  None  |\n",
       "|     view    |  None | 80178.8955573  |  None  |\n",
       "|  condition  |  None | 5389.32009259  |  None  |\n",
       "|    grade    |  None | 4769.46036056  |  None  |\n",
       "+-------------+-------+----------------+--------+\n",
       "[91 rows x 4 columns]\n",
       "Note: Only the head of the SFrame is printed.\n",
       "You can use print_rows(num_rows=m, num_columns=n) to print more rows and columns."
      ]
     },
     "execution_count": 50,
     "metadata": {},
     "output_type": "execute_result"
    }
   ],
   "source": [
    "model_w_best_penalty['coefficients']"
   ]
  },
  {
   "cell_type": "markdown",
   "metadata": {},
   "source": [
    "<a id=\"limit\"></a>\n",
    "## Limit the Number of Nonzero Weights"
   ]
  },
  {
   "cell_type": "markdown",
   "metadata": {},
   "source": [
    "Suppose we wanted a simple interpretable model with only a few features. How would we do that? Well that's what we're going to do next. \n",
    "\n",
    "We'll be trying to achieve 7 features (7 nonzeros), and to do that we'll implement a 2 phase procedure. \n",
    "\n",
    "1. Explore a broad range of L1 penalty values to find a narrow region of L1 penalty values where models are likely to have the desired number of features. \n",
    "\n",
    "2. Further explore that narrow region to find a specific L1 penalty that achieves the desired sparsity. As above, we will use a validation set to select the best L1 penalty value. "
   ]
  },
  {
   "cell_type": "markdown",
   "metadata": {},
   "source": [
    "<a id=\"broad\"></a>\n",
    "### Explore a Broad Range to Find Approximate L1 Penalties"
   ]
  },
  {
   "cell_type": "markdown",
   "metadata": {},
   "source": [
    "First we'll define our range. 100 million to 10 billion. \n",
    "\n",
    "Then, we'll loop over that range to find a sub-range that gives us approximately the number of nonzeros that we're looking for. "
   ]
  },
  {
   "cell_type": "code",
   "execution_count": 30,
   "metadata": {
    "collapsed": true
   },
   "outputs": [],
   "source": [
    "broad_penalty_range = np.logspace(8, 10, num=20)\n",
    "broad_coefficients = []\n",
    "\n",
    "for p in broad_penalty_range:\n",
    "    model = gl.linear_regression.create(training,\n",
    "                                        target='price',\n",
    "                                        features=all_features,\n",
    "                                        validation_set=None,\n",
    "                                        l1_penalty=p,\n",
    "                                        l2_penalty=0.0,\n",
    "                                        verbose=False)\n",
    "    \n",
    "    n_nonzero_coefficients = model['coefficients']['value'].nnz()\n",
    "    broad_coefficients.append(n_nonzero_coefficients)"
   ]
  },
  {
   "cell_type": "code",
   "execution_count": 31,
   "metadata": {
    "collapsed": false
   },
   "outputs": [
    {
     "data": {
      "text/html": [
       "<div style=\"max-height:1000px;max-width:1500px;overflow:auto;\"><table frame=\"box\" rules=\"cols\">\n",
       "    <tr>\n",
       "        <th style=\"padding-left: 1em; padding-right: 1em; text-align: center\">Penalties</th>\n",
       "        <th style=\"padding-left: 1em; padding-right: 1em; text-align: center\">Coefficients</th>\n",
       "    </tr>\n",
       "    <tr>\n",
       "        <td style=\"padding-left: 1em; padding-right: 1em; text-align: center; vertical-align: top\">4832930238.57</td>\n",
       "        <td style=\"padding-left: 1em; padding-right: 1em; text-align: center; vertical-align: top\">8</td>\n",
       "    </tr>\n",
       "    <tr>\n",
       "        <td style=\"padding-left: 1em; padding-right: 1em; text-align: center; vertical-align: top\">6158482110.66</td>\n",
       "        <td style=\"padding-left: 1em; padding-right: 1em; text-align: center; vertical-align: top\">7</td>\n",
       "    </tr>\n",
       "    <tr>\n",
       "        <td style=\"padding-left: 1em; padding-right: 1em; text-align: center; vertical-align: top\">7847599703.51</td>\n",
       "        <td style=\"padding-left: 1em; padding-right: 1em; text-align: center; vertical-align: top\">1</td>\n",
       "    </tr>\n",
       "    <tr>\n",
       "        <td style=\"padding-left: 1em; padding-right: 1em; text-align: center; vertical-align: top\">10000000000.0</td>\n",
       "        <td style=\"padding-left: 1em; padding-right: 1em; text-align: center; vertical-align: top\">1</td>\n",
       "    </tr>\n",
       "</table>\n",
       "[4 rows x 2 columns]<br/>\n",
       "</div>"
      ],
      "text/plain": [
       "Columns:\n",
       "\tPenalties\tfloat\n",
       "\tCoefficients\tint\n",
       "\n",
       "Rows: 4\n",
       "\n",
       "Data:\n",
       "+---------------+--------------+\n",
       "|   Penalties   | Coefficients |\n",
       "+---------------+--------------+\n",
       "| 4832930238.57 |      8       |\n",
       "| 6158482110.66 |      7       |\n",
       "| 7847599703.51 |      1       |\n",
       "| 10000000000.0 |      1       |\n",
       "+---------------+--------------+\n",
       "[4 rows x 2 columns]"
      ]
     },
     "execution_count": 31,
     "metadata": {},
     "output_type": "execute_result"
    }
   ],
   "source": [
    "penalties_and_coefficients = gl.SFrame({'Penalties':broad_penalty_range,\n",
    "                                        'Coefficients':broad_coefficients})\n",
    "# Change the order of the two columns\n",
    "penalties_and_coefficients = penalties_and_coefficients[['Penalties', 'Coefficients']]\n",
    "\n",
    "penalties_and_coefficients.tail(4)"
   ]
  },
  {
   "cell_type": "code",
   "execution_count": 32,
   "metadata": {
    "collapsed": false
   },
   "outputs": [],
   "source": [
    "max_nonzeros = 7\n",
    "\n",
    "# Breaking the SFrame into separate SArrays makes it\n",
    "# a little nicer to work with while in the loop\n",
    "penalties = penalties_and_coefficients['Penalties']\n",
    "coefficients = penalties_and_coefficients['Coefficients']\n",
    "\n",
    "# Loop backwards so coefficient values are ascending\n",
    "for i in range(len(coefficients)-1, 0, -1):\n",
    "    \n",
    "    # Increment fewer_nonzeros and l1_penalty_min while the\n",
    "    # coefficient value is less than max_nonzeros\n",
    "    if coefficients[i] < max_nonzeros:\n",
    "        fewer_nonzeros_than_max = coefficients[i]\n",
    "        l1_penalty_min = penalties[i]\n",
    "    \n",
    "    # Find the first coefficient value greater than max_nonzeros\n",
    "    # Set more_nonzeros and l1_penalty_max and finish with break\n",
    "    if coefficients[i] > max_nonzeros:\n",
    "        more_nonzeros_than_max = coefficients[i]\n",
    "        l1_penalty_max = penalties[i]\n",
    "        break"
   ]
  },
  {
   "cell_type": "markdown",
   "metadata": {},
   "source": [
    "<a id=\"q5\"></a>\n",
    "### Quiz Question 5:\n",
    "What is the value for `l1_penalty_min`?"
   ]
  },
  {
   "cell_type": "code",
   "execution_count": 38,
   "metadata": {
    "collapsed": false
   },
   "outputs": [
    {
     "name": "stdout",
     "output_type": "stream",
     "text": [
      "L1 Penalty Min: 4832930238.571753\n",
      "Nearest Greater Coefficient: 8\n",
      "\n"
     ]
    }
   ],
   "source": [
    "print(\"L1 Penalty Min: %f\\nNearest Greater Coefficient: %i\\n\" % (l1_penalty_max, more_nonzeros_than_max))"
   ]
  },
  {
   "cell_type": "markdown",
   "metadata": {},
   "source": [
    "<a id=\"q6\"></a>\n",
    "### Quiz Question 6:\n",
    "What is the value for `l1_penalty_max`?"
   ]
  },
  {
   "cell_type": "code",
   "execution_count": 39,
   "metadata": {
    "collapsed": false
   },
   "outputs": [
    {
     "name": "stdout",
     "output_type": "stream",
     "text": [
      "L1 Penalty Max: 7.847600e+09\n",
      "Nearest Lower Coefficient: 1\n",
      "\n"
     ]
    }
   ],
   "source": [
    "print(\"L1 Penalty Max: %e\\nNearest Lower Coefficient: %i\\n\" % (l1_penalty_min, fewer_nonzeros_than_max))"
   ]
  },
  {
   "cell_type": "markdown",
   "metadata": {},
   "source": [
    "<a id=\"narrow\"></a>\n",
    "###Explore the Narrow Range to Minimize RSS"
   ]
  },
  {
   "cell_type": "markdown",
   "metadata": {},
   "source": [
    "Finally, we'll train models over the range of `l1_penalty` values that we've found and select the one with the lowest RSS on our Validation dataset. "
   ]
  },
  {
   "cell_type": "code",
   "execution_count": 40,
   "metadata": {
    "collapsed": true
   },
   "outputs": [],
   "source": [
    "narrow_residuals = []\n",
    "narrow_nonzeroes = []\n",
    "\n",
    "for p in np.linspace(l1_penalty_min, l1_penalty_max, 20):\n",
    "    model = gl.linear_regression.create(training,\n",
    "                                    target='price',\n",
    "                                    features=all_features,\n",
    "                                    validation_set=None,\n",
    "                                    l1_penalty=p,\n",
    "                                    l2_penalty=0.0,\n",
    "                                    verbose=False)\n",
    "    \n",
    "    rss = get_residual_sum_of_squares(model, validation, validation['price'])\n",
    "    narrow_residuals.append(rss)\n",
    "    \n",
    "    narrow_nonzeroes.append(model['coefficients']['value'].nnz())"
   ]
  },
  {
   "cell_type": "code",
   "execution_count": 41,
   "metadata": {
    "collapsed": false,
    "scrolled": true
   },
   "outputs": [
    {
     "data": {
      "text/html": [
       "<div style=\"max-height:1000px;max-width:1500px;overflow:auto;\"><table frame=\"box\" rules=\"cols\">\n",
       "    <tr>\n",
       "        <th style=\"padding-left: 1em; padding-right: 1em; text-align: center\">Penalties</th>\n",
       "        <th style=\"padding-left: 1em; padding-right: 1em; text-align: center\">RSS</th>\n",
       "        <th style=\"padding-left: 1em; padding-right: 1em; text-align: center\">N Nonzeroes</th>\n",
       "    </tr>\n",
       "    <tr>\n",
       "        <td style=\"padding-left: 1em; padding-right: 1em; text-align: center; vertical-align: top\">100000000.0</td>\n",
       "        <td style=\"padding-left: 1em; padding-right: 1em; text-align: center; vertical-align: top\">1.56022807889e+15</td>\n",
       "        <td style=\"padding-left: 1em; padding-right: 1em; text-align: center; vertical-align: top\">1</td>\n",
       "    </tr>\n",
       "    <tr>\n",
       "        <td style=\"padding-left: 1em; padding-right: 1em; text-align: center; vertical-align: top\">127427498.57</td>\n",
       "        <td style=\"padding-left: 1em; padding-right: 1em; text-align: center; vertical-align: top\">1.57391583727e+15</td>\n",
       "        <td style=\"padding-left: 1em; padding-right: 1em; text-align: center; vertical-align: top\">1</td>\n",
       "    </tr>\n",
       "    <tr>\n",
       "        <td style=\"padding-left: 1em; padding-right: 1em; text-align: center; vertical-align: top\">162377673.919</td>\n",
       "        <td style=\"padding-left: 1em; padding-right: 1em; text-align: center; vertical-align: top\">1.58880090582e+15</td>\n",
       "        <td style=\"padding-left: 1em; padding-right: 1em; text-align: center; vertical-align: top\">1</td>\n",
       "    </tr>\n",
       "    <tr>\n",
       "        <td style=\"padding-left: 1em; padding-right: 1em; text-align: center; vertical-align: top\">206913808.111</td>\n",
       "        <td style=\"padding-left: 1em; padding-right: 1em; text-align: center; vertical-align: top\">1.58659281991e+15</td>\n",
       "        <td style=\"padding-left: 1em; padding-right: 1em; text-align: center; vertical-align: top\">2</td>\n",
       "    </tr>\n",
       "</table>\n",
       "[4 rows x 3 columns]<br/>\n",
       "</div>"
      ],
      "text/plain": [
       "Columns:\n",
       "\tPenalties\tfloat\n",
       "\tRSS\tfloat\n",
       "\tN Nonzeroes\tint\n",
       "\n",
       "Rows: 4\n",
       "\n",
       "Data:\n",
       "+---------------+-------------------+-------------+\n",
       "|   Penalties   |        RSS        | N Nonzeroes |\n",
       "+---------------+-------------------+-------------+\n",
       "|  100000000.0  | 1.56022807889e+15 |      1      |\n",
       "|  127427498.57 | 1.57391583727e+15 |      1      |\n",
       "| 162377673.919 | 1.58880090582e+15 |      1      |\n",
       "| 206913808.111 | 1.58659281991e+15 |      2      |\n",
       "+---------------+-------------------+-------------+\n",
       "[4 rows x 3 columns]"
      ]
     },
     "execution_count": 41,
     "metadata": {},
     "output_type": "execute_result"
    }
   ],
   "source": [
    "narrow_l1_models = gl.SFrame({'Penalties':penalties,\n",
    "                              'RSS':narrow_residuals,\n",
    "                              'N Nonzeroes':narrow_nonzeroes})\n",
    "\n",
    "narrow_l1_models = narrow_l1_models[['Penalties', 'RSS', 'N Nonzeroes']]\n",
    "narrow_l1_models.head(4)"
   ]
  },
  {
   "cell_type": "code",
   "execution_count": 42,
   "metadata": {
    "collapsed": false
   },
   "outputs": [],
   "source": [
    "correct_sparsity_models = narrow_l1_models.filter_by(max_nonzeros, 'N Nonzeroes')"
   ]
  },
  {
   "cell_type": "markdown",
   "metadata": {},
   "source": [
    "<a id=\"q7\"></a>\n",
    "###Quiz Question 7: \n",
    "What value of l1_penalty in our narrow range has the lowest RSS on the Validation dataset and has sparsity equal to max_nonzeros?"
   ]
  },
  {
   "cell_type": "code",
   "execution_count": 44,
   "metadata": {
    "collapsed": false
   },
   "outputs": [
    {
     "name": "stdout",
     "output_type": "stream",
     "text": [
      "L1 Penalty: 7847599703.514623\n",
      "Lowest RSS: 1.356067e+15\n",
      "\n"
     ]
    }
   ],
   "source": [
    "min_rss_index = correct_sparsity_models['RSS'].argmin()\n",
    "min_rss_row = correct_sparsity_models[min_rss_index]\n",
    "\n",
    "print('L1 Penalty: %f\\nLowest RSS: %e\\n' % (min_rss_row['Penalties'], min_rss_row['RSS']))\n"
   ]
  },
  {
   "cell_type": "markdown",
   "metadata": {},
   "source": [
    "<a id=\"q8\"></a>\n",
    "### Quiz Question 8:\n",
    "What features of the model with the lowest RSS have nonzero coefficients?"
   ]
  },
  {
   "cell_type": "code",
   "execution_count": 32,
   "metadata": {
    "collapsed": true
   },
   "outputs": [],
   "source": [
    "l1_penalty_w_7_coefficients = 7.8475997035e+09\n",
    "\n",
    "model_w_7_coefficients = gl.linear_regression.create(sales,\n",
    "                                                     target='price',\n",
    "                                                     features=all_features,\n",
    "                                                     validation_set=None,\n",
    "                                                     l1_penalty=l1_penalty_w_7_coefficients,\n",
    "                                                     l2_penalty=0.0,\n",
    "                                                     verbose=False)"
   ]
  },
  {
   "cell_type": "code",
   "execution_count": 34,
   "metadata": {
    "collapsed": false
   },
   "outputs": [
    {
     "data": {
      "text/html": [
       "<div style=\"max-height:1000px;max-width:1500px;overflow:auto;\"><table frame=\"box\" rules=\"cols\">\n",
       "    <tr>\n",
       "        <th style=\"padding-left: 1em; padding-right: 1em; text-align: center\">name</th>\n",
       "        <th style=\"padding-left: 1em; padding-right: 1em; text-align: center\">index</th>\n",
       "        <th style=\"padding-left: 1em; padding-right: 1em; text-align: center\">value</th>\n",
       "        <th style=\"padding-left: 1em; padding-right: 1em; text-align: center\">stderr</th>\n",
       "    </tr>\n",
       "    <tr>\n",
       "        <td style=\"padding-left: 1em; padding-right: 1em; text-align: center; vertical-align: top\">(intercept)</td>\n",
       "        <td style=\"padding-left: 1em; padding-right: 1em; text-align: center; vertical-align: top\">None</td>\n",
       "        <td style=\"padding-left: 1em; padding-right: 1em; text-align: center; vertical-align: top\">160233.066821</td>\n",
       "        <td style=\"padding-left: 1em; padding-right: 1em; text-align: center; vertical-align: top\">None</td>\n",
       "    </tr>\n",
       "    <tr>\n",
       "        <td style=\"padding-left: 1em; padding-right: 1em; text-align: center; vertical-align: top\">bedrooms</td>\n",
       "        <td style=\"padding-left: 1em; padding-right: 1em; text-align: center; vertical-align: top\">None</td>\n",
       "        <td style=\"padding-left: 1em; padding-right: 1em; text-align: center; vertical-align: top\">3269.68167359</td>\n",
       "        <td style=\"padding-left: 1em; padding-right: 1em; text-align: center; vertical-align: top\">None</td>\n",
       "    </tr>\n",
       "    <tr>\n",
       "        <td style=\"padding-left: 1em; padding-right: 1em; text-align: center; vertical-align: top\">bathrooms</td>\n",
       "        <td style=\"padding-left: 1em; padding-right: 1em; text-align: center; vertical-align: top\">None</td>\n",
       "        <td style=\"padding-left: 1em; padding-right: 1em; text-align: center; vertical-align: top\">14435.3220651</td>\n",
       "        <td style=\"padding-left: 1em; padding-right: 1em; text-align: center; vertical-align: top\">None</td>\n",
       "    </tr>\n",
       "    <tr>\n",
       "        <td style=\"padding-left: 1em; padding-right: 1em; text-align: center; vertical-align: top\">sqft_living</td>\n",
       "        <td style=\"padding-left: 1em; padding-right: 1em; text-align: center; vertical-align: top\">None</td>\n",
       "        <td style=\"padding-left: 1em; padding-right: 1em; text-align: center; vertical-align: top\">24.7578164954</td>\n",
       "        <td style=\"padding-left: 1em; padding-right: 1em; text-align: center; vertical-align: top\">None</td>\n",
       "    </tr>\n",
       "    <tr>\n",
       "        <td style=\"padding-left: 1em; padding-right: 1em; text-align: center; vertical-align: top\">floors</td>\n",
       "        <td style=\"padding-left: 1em; padding-right: 1em; text-align: center; vertical-align: top\">None</td>\n",
       "        <td style=\"padding-left: 1em; padding-right: 1em; text-align: center; vertical-align: top\">5558.28404808</td>\n",
       "        <td style=\"padding-left: 1em; padding-right: 1em; text-align: center; vertical-align: top\">None</td>\n",
       "    </tr>\n",
       "    <tr>\n",
       "        <td style=\"padding-left: 1em; padding-right: 1em; text-align: center; vertical-align: top\">condition</td>\n",
       "        <td style=\"padding-left: 1em; padding-right: 1em; text-align: center; vertical-align: top\">None</td>\n",
       "        <td style=\"padding-left: 1em; padding-right: 1em; text-align: center; vertical-align: top\">171.124724447</td>\n",
       "        <td style=\"padding-left: 1em; padding-right: 1em; text-align: center; vertical-align: top\">None</td>\n",
       "    </tr>\n",
       "    <tr>\n",
       "        <td style=\"padding-left: 1em; padding-right: 1em; text-align: center; vertical-align: top\">grade</td>\n",
       "        <td style=\"padding-left: 1em; padding-right: 1em; text-align: center; vertical-align: top\">None</td>\n",
       "        <td style=\"padding-left: 1em; padding-right: 1em; text-align: center; vertical-align: top\">3135.80244358</td>\n",
       "        <td style=\"padding-left: 1em; padding-right: 1em; text-align: center; vertical-align: top\">None</td>\n",
       "    </tr>\n",
       "    <tr>\n",
       "        <td style=\"padding-left: 1em; padding-right: 1em; text-align: center; vertical-align: top\">sqft_above</td>\n",
       "        <td style=\"padding-left: 1em; padding-right: 1em; text-align: center; vertical-align: top\">None</td>\n",
       "        <td style=\"padding-left: 1em; padding-right: 1em; text-align: center; vertical-align: top\">23.5545092709</td>\n",
       "        <td style=\"padding-left: 1em; padding-right: 1em; text-align: center; vertical-align: top\">None</td>\n",
       "    </tr>\n",
       "    <tr>\n",
       "        <td style=\"padding-left: 1em; padding-right: 1em; text-align: center; vertical-align: top\">sqft_basement</td>\n",
       "        <td style=\"padding-left: 1em; padding-right: 1em; text-align: center; vertical-align: top\">None</td>\n",
       "        <td style=\"padding-left: 1em; padding-right: 1em; text-align: center; vertical-align: top\">0.73739569629</td>\n",
       "        <td style=\"padding-left: 1em; padding-right: 1em; text-align: center; vertical-align: top\">None</td>\n",
       "    </tr>\n",
       "    <tr>\n",
       "        <td style=\"padding-left: 1em; padding-right: 1em; text-align: center; vertical-align: top\">yr_built</td>\n",
       "        <td style=\"padding-left: 1em; padding-right: 1em; text-align: center; vertical-align: top\">None</td>\n",
       "        <td style=\"padding-left: 1em; padding-right: 1em; text-align: center; vertical-align: top\">0.160735023084</td>\n",
       "        <td style=\"padding-left: 1em; padding-right: 1em; text-align: center; vertical-align: top\">None</td>\n",
       "    </tr>\n",
       "</table>\n",
       "[? rows x 4 columns]<br/>Note: Only the head of the SFrame is printed. This SFrame is lazily evaluated.<br/>You can use len(sf) to force materialization.\n",
       "</div>"
      ],
      "text/plain": [
       "Columns:\n",
       "\tname\tstr\n",
       "\tindex\tstr\n",
       "\tvalue\tfloat\n",
       "\tstderr\tfloat\n",
       "\n",
       "Rows: Unknown\n",
       "\n",
       "Data:\n",
       "+---------------+-------+----------------+--------+\n",
       "|      name     | index |     value      | stderr |\n",
       "+---------------+-------+----------------+--------+\n",
       "|  (intercept)  |  None | 160233.066821  |  None  |\n",
       "|    bedrooms   |  None | 3269.68167359  |  None  |\n",
       "|   bathrooms   |  None | 14435.3220651  |  None  |\n",
       "|  sqft_living  |  None | 24.7578164954  |  None  |\n",
       "|     floors    |  None | 5558.28404808  |  None  |\n",
       "|   condition   |  None | 171.124724447  |  None  |\n",
       "|     grade     |  None | 3135.80244358  |  None  |\n",
       "|   sqft_above  |  None | 23.5545092709  |  None  |\n",
       "| sqft_basement |  None | 0.73739569629  |  None  |\n",
       "|    yr_built   |  None | 0.160735023084 |  None  |\n",
       "+---------------+-------+----------------+--------+\n",
       "[? rows x 4 columns]\n",
       "Note: Only the head of the SFrame is printed. This SFrame is lazily evaluated.\n",
       "You can use len(sf) to force materialization."
      ]
     },
     "execution_count": 34,
     "metadata": {},
     "output_type": "execute_result"
    }
   ],
   "source": [
    "model_w_7_coefficients.get('coefficients').filter_by(0.0, 'value', exclude=True)"
   ]
  }
 ],
 "metadata": {
  "kernelspec": {
   "display_name": "Python 2",
   "language": "python",
   "name": "python2"
  },
  "language_info": {
   "codemirror_mode": {
    "name": "ipython",
    "version": 2
   },
   "file_extension": ".py",
   "mimetype": "text/x-python",
   "name": "python",
   "nbconvert_exporter": "python",
   "pygments_lexer": "ipython2",
   "version": "2.7.10"
  }
 },
 "nbformat": 4,
 "nbformat_minor": 0
}
